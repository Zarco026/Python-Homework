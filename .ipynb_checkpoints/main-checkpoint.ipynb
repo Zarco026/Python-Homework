{
 "cells": [
  {
   "cell_type": "code",
   "execution_count": 16,
   "id": "743c8203-7ba4-461a-bae4-acfc43a8167b",
   "metadata": {
    "tags": []
   },
   "outputs": [
    {
     "name": "stdout",
     "output_type": "stream",
     "text": [
      "Financial Analysis\n",
      "----------------------\n",
      "Total Months: 86\n",
      "Total: $38382578\n",
      "Average Change: -9919.41\n"
     ]
    },
    {
     "ename": "IndexError",
     "evalue": "list index out of range",
     "output_type": "error",
     "traceback": [
      "\u001b[1;31m---------------------------------------------------------------------------\u001b[0m",
      "\u001b[1;31mIndexError\u001b[0m                                Traceback (most recent call last)",
      "\u001b[1;32m<ipython-input-16-5c78a7b46a23>\u001b[0m in \u001b[0;36m<module>\u001b[1;34m\u001b[0m\n\u001b[0;32m     49\u001b[0m \u001b[0mprint\u001b[0m\u001b[1;33m(\u001b[0m\u001b[1;34mf\"Total: ${sum(total_profit)}\"\u001b[0m\u001b[1;33m)\u001b[0m\u001b[1;33m\u001b[0m\u001b[1;33m\u001b[0m\u001b[0m\n\u001b[0;32m     50\u001b[0m \u001b[0mprint\u001b[0m\u001b[1;33m(\u001b[0m\u001b[1;34mf\"Average Change: {round(sum(monthly_profit_change)/len(monthly_profit_change),2)}\"\u001b[0m\u001b[1;33m)\u001b[0m\u001b[1;33m\u001b[0m\u001b[1;33m\u001b[0m\u001b[0m\n\u001b[1;32m---> 51\u001b[1;33m \u001b[0mprint\u001b[0m\u001b[1;33m(\u001b[0m\u001b[1;34mf\"Greatest Increase in Profits: {total_months[max_increase_month]} (${(str(max_increase_value))})\"\u001b[0m\u001b[1;33m)\u001b[0m\u001b[1;33m\u001b[0m\u001b[1;33m\u001b[0m\u001b[0m\n\u001b[0m\u001b[0;32m     52\u001b[0m \u001b[0mprint\u001b[0m\u001b[1;33m(\u001b[0m\u001b[1;34mf\"Greatest Decrease in Profits: {total_months[max_decrease_month]} (${(str(max_decrease_value))})\"\u001b[0m\u001b[1;33m)\u001b[0m\u001b[1;33m\u001b[0m\u001b[1;33m\u001b[0m\u001b[0m\n",
      "\u001b[1;31mIndexError\u001b[0m: list index out of range"
     ]
    }
   ],
   "source": [
    "# Import Dependencies\n",
    "import os\n",
    "import csv\n",
    "from pathlib import Path\n",
    "\n",
    "# Declare file location through pathlib\n",
    "input_file = os.path.join(r\"C:\\Users\\Sejas\\Desktop\\FinTech\\Homeworks\\Python-Homework\\PyBank\\Python-Homework\\week_2_Week2_HW_PyBank_budget_data.csv\")\n",
    "\n",
    "# Create empty lists to iterate through specific rows for the following variables\n",
    "total_months = []\n",
    "total_profit = []\n",
    "monthly_profit_change = []\n",
    "\n",
    "with open(input_file, newline='\\n') as csvfile:\n",
    "    \n",
    "    # CSV reader specifies delimiter and variable that holds contents\n",
    "    csvreader = csv.reader(csvfile, delimiter=',')\n",
    "    \n",
    "    # Skip the header Labels to iterate with the values\n",
    "    header = next(csvreader)\n",
    "    \n",
    "    # Iterate through the rows in the stored file contents\n",
    "    for row in csvreader:\n",
    "        \n",
    "        # Append the total months and total profit to their corresponding lists\n",
    "        total_months.append(row[0])\n",
    "        total_profit.append(int(row[1]))\n",
    "        \n",
    "    # Iterate through the profits in order to get the monthly change in profits\n",
    "        for i in range(len(total_profit)-1):\n",
    "            \n",
    "        # Take the difference between two months and append to monthly profit change\n",
    "            monthly_profit_change.append(total_profit[i+1]-total_profit[i])\n",
    "        \n",
    "# Obtain the max and min of the monthly profit change list\n",
    "max_increase_value = max(monthly_profit_change)\n",
    "max_decrease_value = min(monthly_profit_change)\n",
    "\n",
    "# Correlate max and min to the proper month using month list and index from max and min\n",
    "# We use the plus 1 at the end since month associated with the change is the + 1 month or next month\n",
    "max_increase_month = monthly_profit_change.index(max(monthly_profit_change)) + 1\n",
    "max_decrease_month = monthly_profit_change.index(min(monthly_profit_change)) + 1\n",
    "\n",
    "# Print Statements\n",
    "\n",
    "print(\"Financial Analysis\")\n",
    "print(\"----------------------\")\n",
    "print(f\"Total Months: {len(total_months)}\")\n",
    "print(f\"Total: ${sum(total_profit)}\")\n",
    "print(f\"Average Change: {round(sum(monthly_profit_change)/len(monthly_profit_change),2)}\")\n",
    "print(f\"Greatest Increase in Profits: {total_months[max_increase_month]} (${(str(max_increase_value))})\")\n",
    "print(f\"Greatest Decrease in Profits: {total_months[max_decrease_month]} (${(str(max_decrease_value))})\")"
   ]
  },
  {
   "cell_type": "code",
   "execution_count": 17,
   "id": "99a8b91f-994b-4fb1-bf3f-0aa3c71386d8",
   "metadata": {},
   "outputs": [],
   "source": [
    "# Output files\n",
    "output_file = Path(\"Financial_Analysis_Summary.txt\")\n",
    "with open(output_file, \"w\") as txt_file:\n",
    "    txt_file.write(\"Financial Analysis\\n\")\n",
    "    txt_file.write(\"-------------------------------------\\n\")\n",
    "    txt_file.write(f\"Total Months: {len(total_months)}\\n\")\n",
    "    txt_file.write(f\"Total: {sum(total_profit)}\\n\")"
   ]
  },
  {
   "cell_type": "code",
   "execution_count": null,
   "id": "833dd0b3-a100-4496-a4c3-845f81352abc",
   "metadata": {},
   "outputs": [],
   "source": []
  }
 ],
 "metadata": {
  "kernelspec": {
   "display_name": "Python 3",
   "language": "python",
   "name": "python3"
  },
  "language_info": {
   "codemirror_mode": {
    "name": "ipython",
    "version": 3
   },
   "file_extension": ".py",
   "mimetype": "text/x-python",
   "name": "python",
   "nbconvert_exporter": "python",
   "pygments_lexer": "ipython3",
   "version": "3.7.10"
  }
 },
 "nbformat": 4,
 "nbformat_minor": 5
}
