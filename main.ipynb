{
 "cells": [
  {
   "cell_type": "code",
   "execution_count": 21,
   "id": "743c8203-7ba4-461a-bae4-acfc43a8167b",
   "metadata": {},
   "outputs": [],
   "source": [
    "import os\n",
    "import csv\n",
    "from pathlib import Path"
   ]
  },
  {
   "cell_type": "code",
   "execution_count": 22,
   "id": "8196fde7-0e76-45da-aac9-f0eb7ff2f6d6",
   "metadata": {},
   "outputs": [],
   "source": [
    "# Declare file Location through pathlib\n",
    "input_file = os.path.join(r\"C:\\Users\\Sejas\\Desktop\\FinTech\\Homeworks\\Python-Homework\\PyBank\\Python-Homework\\week_2_Week2_HW_PyBank_budget_data.csv\")"
   ]
  },
  {
   "cell_type": "code",
   "execution_count": 23,
   "id": "8165c788-ab04-4791-a632-a04877c5e90c",
   "metadata": {},
   "outputs": [],
   "source": [
    "# Create empty lists to iterate through specific rows for the following variables\n",
    "total_months = []\n",
    "total_profit = []\n",
    "monthly_profit_change = []"
   ]
  },
  {
   "cell_type": "code",
   "execution_count": 24,
   "id": "e185bcc6-c324-4a71-912d-150f64b0c9dc",
   "metadata": {},
   "outputs": [],
   "source": [
    "with open(input_file, newline='\\n') as csvfile:\n",
    "    \n",
    "    # CSV reader specifies delimiter and variable that holds contents\n",
    "    csvreader = csv.reader(csvfile, delimiter=',')\n",
    "    \n",
    "    # Skip the header Labels to iterate with the values\n",
    "    header = next(csvreader)\n",
    "    \n",
    "    # Iterate through the rows in the stored file contents\n",
    "    for row in csvreader:\n",
    "        \n",
    "        # Append the total months and total profit to their corresponding lists\n",
    "        total_months.append(row[0])\n",
    "        total_profit.append(int(row[1]))\n",
    "        \n",
    "        # Iterate through the profits in order to get the monthly change in profits\n",
    "        for i in range(len(total_profit)-1):\n",
    "            \n",
    "            # Take the difference between two months and append to monthly profit change\n",
    "            monthly_profit_change.append(total_profit[i+1]-total_profit[i])\n",
    "        \n",
    "# Obtain the max and min of the monthly profit change list\n",
    "max_increase_value = max(monthly_profit_change)\n",
    "max_decrease_value = min(monthly_profit_change)\n",
    "\n",
    "# Correlate max and min to the proper month using month, list and index from max and min\n",
    "# We use the plus 1 at the end since the month associated with the change is the plus 1 or next month\n",
    "max_increase_month = monthly_profit_change.index(max(monthly_profit_change)) + 1\n",
    "max_decrease_month = monthly_profit_change.index(min(monthly_profit_change)) + 1\n",
    "        \n",
    "\n"
   ]
  },
  {
   "cell_type": "code",
   "execution_count": 25,
   "id": "dce10bee-ce1a-4ddc-81f3-338a78baed42",
   "metadata": {},
   "outputs": [
    {
     "name": "stdout",
     "output_type": "stream",
     "text": [
      "Financial Analysis\n",
      "----------------------\n",
      "Total Months: 86\n",
      "Total: $38382578\n"
     ]
    }
   ],
   "source": [
    "# Print Statements\n",
    "print(\"Financial Analysis\")\n",
    "print(\"----------------------\")\n",
    "print(f\"Total Months: {len(total_months)}\")\n",
    "print(f\"Total: ${sum(total_profit)}\")\n",
    "#print(f\"Average Change: {round(sum(monthly_profit_change)/len(monthly_profit_change),2)}\")\n",
    "#print(f\"Greatest Increase in Profits: {total_months[max_increase_month]} (${(str(max_increase_value))})\")\n",
    "#print(f\"Greatest Decrease in Profits: {total_months[max_decrease_month]} (${(str(max_decrease_value))})\")\n",
    "\n"
   ]
  },
  {
   "cell_type": "code",
   "execution_count": 27,
   "id": "99a8b91f-994b-4fb1-bf3f-0aa3c71386d8",
   "metadata": {},
   "outputs": [],
   "source": [
    "# Output files\n",
    "output_file = Path(\"Financial_Analysis_Summary.txt\")\n",
    "with open(output_file, \"w\") as txt_file:\n",
    "    txt_file.write(\"Financial Analysis\\n\")\n",
    "    txt_file.write(\"-------------------------------------\\n\")\n",
    "    txt_file.write(f\"Total Months: {len(total_months)}\\n\")\n",
    "    txt_file.write(f\"Total: {sum(total_profit)}\\n\")"
   ]
  },
  {
   "cell_type": "code",
   "execution_count": null,
   "id": "0af3adff-150d-4ac6-a750-25fee145d5b0",
   "metadata": {},
   "outputs": [],
   "source": []
  }
 ],
 "metadata": {
  "kernelspec": {
   "display_name": "Python 3",
   "language": "python",
   "name": "python3"
  },
  "language_info": {
   "codemirror_mode": {
    "name": "ipython",
    "version": 3
   },
   "file_extension": ".py",
   "mimetype": "text/x-python",
   "name": "python",
   "nbconvert_exporter": "python",
   "pygments_lexer": "ipython3",
   "version": "3.7.10"
  }
 },
 "nbformat": 4,
 "nbformat_minor": 5
}
